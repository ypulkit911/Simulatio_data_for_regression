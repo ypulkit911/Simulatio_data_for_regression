{
  "nbformat": 4,
  "nbformat_minor": 0,
  "metadata": {
    "colab": {
      "provenance": []
    },
    "kernelspec": {
      "name": "python3",
      "display_name": "Python 3"
    },
    "language_info": {
      "name": "python"
    }
  },
  "cells": [
    {
      "cell_type": "code",
      "execution_count": 1,
      "metadata": {
        "colab": {
          "base_uri": "https://localhost:8080/"
        },
        "id": "QI1y4b1rgLXh",
        "outputId": "cd905b72-2007-4807-b72f-80f62c6cbd85"
      },
      "outputs": [
        {
          "output_type": "stream",
          "name": "stdout",
          "text": [
            "   id  time          x1         x2         x3  x3_squared  individual_effect  \\\n",
            "0   0     0  104.967142  56.996777  27.974465  782.570702          -1.907808   \n",
            "1   0     1   98.617357  54.623168  29.566444  874.174610          -1.907808   \n",
            "2   0     2  106.476885  50.298152  27.622740  763.015778          -1.907808   \n",
            "3   0     3  115.230299  46.765316  29.076115  845.420487          -1.907808   \n",
            "4   0     4   97.658466  53.491117  24.319156  591.421349          -1.907808   \n",
            "\n",
            "   time_effect          y  \n",
            "0    -0.706893  68.617826  \n",
            "1     0.855556  67.330265  \n",
            "2     1.649481  70.024741  \n",
            "3     1.070611  72.841790  \n",
            "4    -0.729602  63.484030  \n"
          ]
        }
      ],
      "source": [
        "import pandas as pd\n",
        "import numpy as np\n",
        "\n",
        "# Number of cross-sectional units and time periods\n",
        "N = 100\n",
        "T = 10\n",
        "\n",
        "# Create DataFrame to hold the panel data\n",
        "data = pd.DataFrame({\n",
        "    'id': np.repeat(np.arange(N), T),\n",
        "    'time': np.tile(np.arange(T), N),\n",
        "})\n",
        "\n",
        "# Generate independent variables\n",
        "np.random.seed(42)\n",
        "data['x1'] = np.random.normal(100, 10, N*T)  # IV1\n",
        "data['x2'] = np.random.normal(50, 5, N*T)    # IV2\n",
        "data['x3'] = np.random.normal(30, 3, N*T)    # IV3\n",
        "\n",
        "# Polynomial term\n",
        "data['x3_squared'] = data['x3'] ** 2\n",
        "\n",
        "# Individual fixed effects\n",
        "individual_effects = np.random.normal(0, 1, N)\n",
        "data['individual_effect'] = data['id'].map(lambda x: individual_effects[x])\n",
        "\n",
        "# Time fixed effects\n",
        "time_effects = np.random.normal(0, 1, T)\n",
        "data['time_effect'] = data['time'].map(lambda x: time_effects[x])\n",
        "\n",
        "# Generate the dependent variable (DV)\n",
        "beta1 = 0.5\n",
        "beta2 = 0.3\n",
        "beta3 = -0.2\n",
        "beta4 = 0.01\n",
        "\n",
        "error_term = np.random.normal(0, 0.5, N*T)\n",
        "\n",
        "data['y'] = (beta1 * data['x1'] +\n",
        "             beta2 * data['x2'] +\n",
        "             beta3 * data['x3'] +\n",
        "             beta4 * data['x3_squared'] +\n",
        "             data['individual_effect'] +\n",
        "             data['time_effect'] +\n",
        "             error_term)\n",
        "\n",
        "# Check the first few rows to ensure everything looks as expected\n",
        "print(data.head())\n"
      ]
    }
  ]
}