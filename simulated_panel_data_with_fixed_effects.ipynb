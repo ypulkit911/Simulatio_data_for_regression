{
  "nbformat": 4,
  "nbformat_minor": 0,
  "metadata": {
    "colab": {
      "provenance": []
    },
    "kernelspec": {
      "name": "python3",
      "display_name": "Python 3"
    },
    "language_info": {
      "name": "python"
    }
  },
  "cells": [
    {
      "cell_type": "code",
      "execution_count": null,
      "metadata": {
        "id": "gQHfoG5CZIrT"
      },
      "outputs": [],
      "source": [
        "import pandas as pd\n",
        "import numpy as np\n",
        "\n",
        "# Set the number of individuals and time periods\n",
        "N = 100\n",
        "T = 10\n",
        "\n",
        "# Set seed for reproducibility\n",
        "np.random.seed(42)\n",
        "\n",
        "# Create individual fixed effects\n",
        "individual_effects = np.random.normal(0, 1, N)\n",
        "\n",
        "# Create time fixed effects\n",
        "time_effects = np.random.normal(0, 1, T)\n",
        "\n",
        "# Create empty DataFrame\n",
        "data = []\n",
        "\n",
        "# Loop through individuals and time to create data\n",
        "for i in range(N):\n",
        "    for t in range(T):\n",
        "        x1 = np.random.normal(0, 1)  # Independent variable 1\n",
        "        x2 = np.random.normal(0, 1)  # Independent variable 2\n",
        "        x3 = np.random.normal(0, 1)  # Independent variable 3\n",
        "        y = 2 * x1 + 3 * np.square(x2) - 4* x3 + individual_effects[i] + time_effects[t] + np.random.normal(0, 1) # Dependent variable with nonlinear relationship\n",
        "        #coeff of x1 is 2, x2square is 3, x3 is -4\n",
        "        data.append([i, t, x1, x2, x3, y])\n",
        "\n",
        "# Create DataFrame\n",
        "columns = ['individual', 'time', 'x1', 'x2', 'x3', 'y']\n",
        "df = pd.DataFrame(data, columns=columns)\n",
        "\n",
        "# Save to CSV (optional)\n",
        "df.to_excel('simulated_panel_data with fixed effects.xlsx', index=False)\n"
      ]
    }
  ]
}