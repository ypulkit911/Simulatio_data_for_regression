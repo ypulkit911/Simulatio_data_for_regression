{
  "nbformat": 4,
  "nbformat_minor": 0,
  "metadata": {
    "colab": {
      "provenance": []
    },
    "kernelspec": {
      "name": "python3",
      "display_name": "Python 3"
    },
    "language_info": {
      "name": "python"
    }
  },
  "cells": [
    {
      "cell_type": "code",
      "execution_count": null,
      "metadata": {
        "id": "ZBsAXBdrsTFW"
      },
      "outputs": [],
      "source": [
        "import numpy as np\n",
        "import pandas as pd\n",
        "\n",
        "# Set random seed for reproducibility\n",
        "np.random.seed(123)\n",
        "\n",
        "# Define the number of individuals (N) and time periods (T)\n",
        "N = 100\n",
        "T = 20\n",
        "\n",
        "# Create individual-specific and time-specific fixed effects\n",
        "individual_effects = np.random.normal(0, 5, N)\n",
        "time_effects = np.random.normal(0, 3, T)\n",
        "\n",
        "# Define true parameters\n",
        "beta0 = 5\n",
        "beta1 = 2\n",
        "beta2 = -1\n",
        "beta3 = 0.5\n",
        "\n",
        "# Initialize lists to store data\n",
        "y = []\n",
        "x1 = []\n",
        "x2 = []\n",
        "x3 = []\n",
        "individuals = []\n",
        "time_periods = []\n",
        "\n",
        "# Simulate the panel data\n",
        "for i in range(N):\n",
        "    for t in range(T):\n",
        "        x1_it = np.random.normal(10, 5)\n",
        "        x2_it = np.random.randint(0, 2)\n",
        "        x3_it = np.random.uniform(0, 10)\n",
        "\n",
        "        # Adding some non-linearity\n",
        "        nonlinear_effect = np.sin(x3_it)\n",
        "\n",
        "        epsilon_it = np.random.normal(0, 5)\n",
        "\n",
        "        y_it = (beta0 +\n",
        "                beta1 * x1_it +\n",
        "                beta2 * x2_it +\n",
        "                beta3 * x3_it +\n",
        "                nonlinear_effect +\n",
        "                individual_effects[i] +\n",
        "                time_effects[t] +\n",
        "                epsilon_it)\n",
        "\n",
        "        y.append(y_it)\n",
        "        x1.append(x1_it)\n",
        "        x2.append(x2_it)\n",
        "        x3.append(x3_it)\n",
        "        individuals.append(i)\n",
        "        time_periods.append(t)\n",
        "\n",
        "# Create a DataFrame\n",
        "data = pd.DataFrame({'individual': individuals, 'time': time_periods, 'x1': x1, 'x2': x2, 'x3': x3, 'y': y})\n",
        "\n",
        "\n"
      ]
    },
    {
      "cell_type": "code",
      "source": [
        "type(data)"
      ],
      "metadata": {
        "colab": {
          "base_uri": "https://localhost:8080/"
        },
        "id": "n-KxjZwP5LWT",
        "outputId": "632979d2-02c0-49ee-d336-e0faf664359a"
      },
      "execution_count": null,
      "outputs": [
        {
          "output_type": "execute_result",
          "data": {
            "text/plain": [
              "pandas.core.frame.DataFrame"
            ]
          },
          "metadata": {},
          "execution_count": 4
        }
      ]
    }
  ]
}